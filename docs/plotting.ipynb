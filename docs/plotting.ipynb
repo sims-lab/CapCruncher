{
 "cells": [
  {
   "cell_type": "markdown",
   "metadata": {},
   "source": [
    "# Plotting CapCruncher output\n",
    "\n",
    "## Introduction\n",
    "\n",
    "This is a quick overview of the plotting functionality of CapCruncher. Please ensure that you have installed the optional dependencies for CapCruncher by running:\n",
    "\n",
    "``` bash\n",
    "pip install capcruncher[plotting]\n",
    "```\n",
    "\n",
    "<!-- For more detailed information on the plotting functionality, see the [plotting guide](plotting.md). -->"
   ]
  },
  {
   "cell_type": "markdown",
   "metadata": {},
   "source": [
    "## Imports"
   ]
  },
  {
   "cell_type": "code",
   "execution_count": 2,
   "metadata": {},
   "outputs": [],
   "source": [
    "import pandas as pd\n",
    "import numpy as np\n",
    "import matplotlib.pyplot as plt\n",
    "import coolbox.api as cb\n",
    "from capcruncher.api.plotting import CCTrack, CCFigure\n",
    "import pyranges as pr"
   ]
  },
  {
   "cell_type": "markdown",
   "metadata": {},
   "source": [
    "## Read plotting coordinates"
   ]
  },
  {
   "cell_type": "code",
   "execution_count": null,
   "metadata": {},
   "outputs": [],
   "source": [
    "viewpoints = pr.read_bed(\"oligoCoordinates.bed\")\n",
    "viewpoints"
   ]
  },
  {
   "cell_type": "markdown",
   "metadata": {},
   "source": [
    "## Plot using the CapCruncher API\n",
    "\n",
    "First create a number of `CCTrack` instances supported track types:\n",
    "\n",
    "- heatmap - a contact matrix heatmap in cool format \n",
    "- bigwig  - a bigwig file containing the number of reads per bin\n",
    "- bigwig_summary - a collection of bigwig files containing the number of reads per bin\n",
    "- scale - a scale bar. Does not require a file to be specified\n",
    "- bed  - a bed file\n",
    "- xaxis  - an x-axis of genomic coordinates. Does not require a file to be specified\n",
    "- genes - a gene track in bed12 format \n",
    "- spacer - a spacer track. Does not require a file to be specified\n"
   ]
  },
  {
   "cell_type": "markdown",
   "metadata": {},
   "source": [
    "## Create new `CCTrack` objects\n",
    "\n",
    "### Option 1: Create a list of `CCTrack` objects and pass them to CCFigure"
   ]
  },
  {
   "cell_type": "code",
   "execution_count": null,
   "metadata": {},
   "outputs": [],
   "source": [
    "tracks = [\n",
    "    CCTrack(None, type=\"scale\"),\n",
    "    CCTrack(\n",
    "        \"capcruncher_output/GM12878_rep1/GM12878.hdf5\",\n",
    "        type=\"heatmap\",\n",
    "        binsize=5000,\n",
    "        title=\"GM12878\",\n",
    "        viewpoint=\"BLC2\",\n",
    "        normalization=\"ice\",\n",
    "        transform=\"yes\",\n",
    "        style=\"triangular\",\n",
    "    ),\n",
    "    CCTrack(None, type=\"spacer\"),\n",
    "    CCTrack(\"hg38_genes.bed\", type=\"genes\", color=\"black\"),\n",
    "    CCTrack(None, type=\"spacer\"),\n",
    "    CCTrack(None, type=\"xaxis\"),\n",
    "]\n",
    "\n",
    "fig = CCFigure(tracks, auto_spacing=False)"
   ]
  },
  {
   "cell_type": "markdown",
   "metadata": {},
   "source": [
    "### Option 2: Create a `CCFigure` object and add tracks to it"
   ]
  },
  {
   "cell_type": "code",
   "execution_count": null,
   "metadata": {},
   "outputs": [],
   "source": [
    "fig = CCFigure(tracks, auto_spacing=False)\n",
    "fig.add_track(CCTrack(\"hg38_genes.bed\", type=\"genes\", color=\"black\"))"
   ]
  },
  {
   "cell_type": "markdown",
   "metadata": {},
   "source": [
    "## Plot the figure (Optional)"
   ]
  },
  {
   "cell_type": "code",
   "execution_count": null,
   "metadata": {},
   "outputs": [],
   "source": [
    "\n",
    "# Plot a specific region if desired\n",
    "fig.plot(\"chr18:61460000-64500000\")"
   ]
  },
  {
   "cell_type": "markdown",
   "metadata": {},
   "source": [
    "## Save the figure\n",
    "\n",
    "Two options: \n",
    "\n",
    "1. Save the figure as a static image using the save method of the `CCFigure`.\n",
    "2. Save the `CCFigure` as a TOML file which can be edited and either reloaded into a `CCFigure` or used by the command line interface to generate a new figure using `capcruncher plot make-plot`.\n"
   ]
  },
  {
   "cell_type": "markdown",
   "metadata": {},
   "source": [
    "### Option 1: Save the figure to a file "
   ]
  },
  {
   "cell_type": "code",
   "execution_count": null,
   "metadata": {},
   "outputs": [],
   "source": [
    "fig.save(\"chr18:61460000-64500000\", output=\"test.png\")"
   ]
  },
  {
   "cell_type": "markdown",
   "metadata": {},
   "source": [
    "### Option 2: Save the figure as a template"
   ]
  },
  {
   "cell_type": "code",
   "execution_count": null,
   "metadata": {},
   "outputs": [],
   "source": [
    "fig.to_toml(\"template.toml\")"
   ]
  },
  {
   "cell_type": "markdown",
   "metadata": {},
   "source": [
    "This will look something like this:\n",
    "\n",
    "``` TOML\n",
    "\n",
    "```"
   ]
  },
  {
   "cell_type": "markdown",
   "metadata": {},
   "source": [
    "This template can either be re-loaded e.g."
   ]
  },
  {
   "cell_type": "code",
   "execution_count": null,
   "metadata": {},
   "outputs": [],
   "source": [
    "fig = CCFigure.from_toml(\"template.toml\")"
   ]
  },
  {
   "cell_type": "markdown",
   "metadata": {},
   "source": [
    "Alternatively the template can be edited and used with `capcruncher plot make-plot` e.g."
   ]
  },
  {
   "cell_type": "code",
   "execution_count": null,
   "metadata": {},
   "outputs": [],
   "source": [
    "%%bash\n",
    "\n",
    "capcruncher \\\n",
    "plot \\\n",
    "make-plot \\\n",
    "--template template.toml \\\n",
    "--region chr18:61460000-64500000 \\\n",
    "-o test.pdf\n",
    "\n"
   ]
  }
 ],
 "metadata": {
  "kernelspec": {
   "display_name": "CapCruncher (JADE)",
   "language": "python",
   "name": "capcruncher"
  },
  "language_info": {
   "codemirror_mode": {
    "name": "ipython",
    "version": 3
   },
   "file_extension": ".py",
   "mimetype": "text/x-python",
   "name": "python",
   "nbconvert_exporter": "python",
   "pygments_lexer": "ipython3",
   "version": "3.10.8"
  },
  "orig_nbformat": 4
 },
 "nbformat": 4,
 "nbformat_minor": 2
}
