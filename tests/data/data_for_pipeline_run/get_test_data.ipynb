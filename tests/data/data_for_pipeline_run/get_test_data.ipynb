{
 "cells": [
  {
   "cell_type": "code",
   "execution_count": 1,
   "id": "69bbd517-b0a3-4223-b561-f0f91ca91545",
   "metadata": {
    "execution": {
     "iopub.execute_input": "2021-12-17T16:35:35.933331Z",
     "iopub.status.busy": "2021-12-17T16:35:35.932663Z",
     "iopub.status.idle": "2021-12-17T16:35:37.208548Z",
     "shell.execute_reply": "2021-12-17T16:35:37.207105Z",
     "shell.execute_reply.started": "2021-12-17T16:35:35.933243Z"
    },
    "tags": []
   },
   "outputs": [],
   "source": [
    "import os\n",
    "import sys\n",
    "import pandas as pd\n",
    "import numpy as np\n",
    "import pysam\n",
    "from pybedtools import BedTool\n",
    "from Bio import Seq"
   ]
  },
  {
   "cell_type": "code",
   "execution_count": 2,
   "id": "6413cfe4-eb3e-46db-8e41-c960befb37d0",
   "metadata": {
    "execution": {
     "iopub.execute_input": "2021-12-17T16:35:37.211106Z",
     "iopub.status.busy": "2021-12-17T16:35:37.210478Z",
     "iopub.status.idle": "2021-12-17T16:35:41.298224Z",
     "shell.execute_reply": "2021-12-17T16:35:41.297373Z",
     "shell.execute_reply.started": "2021-12-17T16:35:37.211054Z"
    }
   },
   "outputs": [
    {
     "name": "stdout",
     "output_type": "stream",
     "text": [
      "Fri 17 Dec 16:35:37 GMT 2021\n",
      "/home/a/asmith/stopgap/asmith/capture_pipeline/CapCruncher\n",
      "base                  *  /home/a/asmith/miniconda3/envs/cc\n"
     ]
    }
   ],
   "source": [
    "!date\n",
    "!pwd\n",
    "!conda env list | grep \"*\""
   ]
  },
  {
   "cell_type": "code",
   "execution_count": 3,
   "id": "f99bc067-cd39-4ed3-8c58-5d971a4a07b9",
   "metadata": {
    "execution": {
     "iopub.execute_input": "2021-12-17T16:35:41.300112Z",
     "iopub.status.busy": "2021-12-17T16:35:41.299834Z",
     "iopub.status.idle": "2021-12-17T16:35:41.304345Z",
     "shell.execute_reply": "2021-12-17T16:35:41.303712Z",
     "shell.execute_reply.started": "2021-12-17T16:35:41.300079Z"
    }
   },
   "outputs": [],
   "source": [
    "#!cp /tmp/pytest-of-asmith/pytest-183/datacurrent/capcruncher_preprocessing/restriction_enzyme_map/genome.digest.bed.gz ."
   ]
  },
  {
   "cell_type": "markdown",
   "id": "36b55c01-375b-4e52-96dd-c6b42250ae45",
   "metadata": {},
   "source": [
    "# Set-up"
   ]
  },
  {
   "cell_type": "code",
   "execution_count": 4,
   "id": "9e54b4aa-4f63-404d-b889-bf538240d417",
   "metadata": {
    "execution": {
     "iopub.execute_input": "2021-12-17T16:35:41.306910Z",
     "iopub.status.busy": "2021-12-17T16:35:41.306574Z",
     "iopub.status.idle": "2021-12-17T16:35:41.311482Z",
     "shell.execute_reply": "2021-12-17T16:35:41.310867Z",
     "shell.execute_reply.started": "2021-12-17T16:35:41.306884Z"
    },
    "tags": []
   },
   "outputs": [],
   "source": [
    "viewpoint = BedTool(\"tests/data/data_for_pipeline_run/mm9_capture_oligos_Slc25A37.bed\")[0]"
   ]
  },
  {
   "cell_type": "code",
   "execution_count": 5,
   "id": "64d03841-ab74-45ab-a535-9ee390a6dcb9",
   "metadata": {
    "execution": {
     "iopub.execute_input": "2021-12-17T16:35:41.312710Z",
     "iopub.status.busy": "2021-12-17T16:35:41.312448Z",
     "iopub.status.idle": "2021-12-17T16:35:41.317702Z",
     "shell.execute_reply": "2021-12-17T16:35:41.316915Z",
     "shell.execute_reply.started": "2021-12-17T16:35:41.312686Z"
    },
    "tags": []
   },
   "outputs": [],
   "source": [
    "restriction_fragments = BedTool(\"genome.digest.bed.gz\")"
   ]
  },
  {
   "cell_type": "code",
   "execution_count": 6,
   "id": "ebce2938-efe3-47d2-a427-fa453be9e439",
   "metadata": {
    "execution": {
     "iopub.execute_input": "2021-12-17T16:35:41.318843Z",
     "iopub.status.busy": "2021-12-17T16:35:41.318544Z",
     "iopub.status.idle": "2021-12-17T16:35:41.484697Z",
     "shell.execute_reply": "2021-12-17T16:35:41.483069Z",
     "shell.execute_reply.started": "2021-12-17T16:35:41.318817Z"
    },
    "tags": []
   },
   "outputs": [],
   "source": [
    "df_restriction_fragments = restriction_fragments.to_dataframe()"
   ]
  },
  {
   "cell_type": "code",
   "execution_count": 7,
   "id": "9ae2fee9-da88-466c-b99c-3cceb8af53dc",
   "metadata": {
    "execution": {
     "iopub.execute_input": "2021-12-17T16:35:41.487439Z",
     "iopub.status.busy": "2021-12-17T16:35:41.486818Z",
     "iopub.status.idle": "2021-12-17T16:35:41.507940Z",
     "shell.execute_reply": "2021-12-17T16:35:41.507044Z",
     "shell.execute_reply.started": "2021-12-17T16:35:41.487392Z"
    },
    "tags": []
   },
   "outputs": [],
   "source": [
    "vp_fragment = df_restriction_fragments.query(\"(start > @viewpoint.start) and (end < @viewpoint.end)\")"
   ]
  },
  {
   "cell_type": "code",
   "execution_count": 8,
   "id": "ec6354df-4a72-4ded-8096-c5e99c7c58dd",
   "metadata": {
    "execution": {
     "iopub.execute_input": "2021-12-17T16:35:41.509490Z",
     "iopub.status.busy": "2021-12-17T16:35:41.509151Z",
     "iopub.status.idle": "2021-12-17T16:35:41.513327Z",
     "shell.execute_reply": "2021-12-17T16:35:41.512502Z",
     "shell.execute_reply.started": "2021-12-17T16:35:41.509450Z"
    },
    "tags": []
   },
   "outputs": [],
   "source": [
    "fasta = \"tests/data/data_for_pipeline_run/chr14.fa\""
   ]
  },
  {
   "cell_type": "markdown",
   "id": "60b56124-7a13-41af-9a1d-f6bf818d4f48",
   "metadata": {},
   "source": [
    "### Get adjacent fragments"
   ]
  },
  {
   "cell_type": "code",
   "execution_count": 9,
   "id": "2e95929c-4d3e-45e3-b205-7fc24748db3e",
   "metadata": {
    "execution": {
     "iopub.execute_input": "2021-12-17T16:35:41.514816Z",
     "iopub.status.busy": "2021-12-17T16:35:41.514494Z",
     "iopub.status.idle": "2021-12-17T16:35:41.520532Z",
     "shell.execute_reply": "2021-12-17T16:35:41.519608Z",
     "shell.execute_reply.started": "2021-12-17T16:35:41.514785Z"
    },
    "tags": []
   },
   "outputs": [],
   "source": [
    "adjacent_fragments = np.concatenate([(vp_fragment[\"name\"] + adj).values for adj in [1, -1]])"
   ]
  },
  {
   "cell_type": "markdown",
   "id": "f082debe-18ed-4966-9d21-f110a559950d",
   "metadata": {
    "execution": {
     "iopub.execute_input": "2021-12-17T10:51:10.530456Z",
     "iopub.status.busy": "2021-12-17T10:51:10.529771Z",
     "iopub.status.idle": "2021-12-17T10:51:10.537747Z",
     "shell.execute_reply": "2021-12-17T10:51:10.536832Z",
     "shell.execute_reply.started": "2021-12-17T10:51:10.530405Z"
    },
    "tags": []
   },
   "source": [
    "# Filters to test:\n",
    "\n",
    "- remove_unmapped_slices\n",
    "- remove_orphan_slices\n",
    "- remove_multi_capture_fragments\n",
    "- remove_excluded_slices\n",
    "- remove_blacklisted_slices\n",
    "- remove_non_reporter_fragments\n",
    "- remove_multicapture_reporters\n",
    "- remove_slices_without_re_frag_assigned\n",
    "- remove_duplicate_re_frags\n",
    "- remove_duplicate_slices\n",
    "- remove_duplicate_slices_pe\n",
    "- remove_non_reporter_fragments\n",
    "\n",
    "\n",
    "All reads will be 150bp/150bp with 25 bp shared between the capture and the viewpoint"
   ]
  },
  {
   "cell_type": "markdown",
   "id": "b4a2117c-7ecc-4a6b-9cda-8854bcde2365",
   "metadata": {},
   "source": [
    "### Viewpoint base slice"
   ]
  },
  {
   "cell_type": "code",
   "execution_count": 10,
   "id": "d675e1ae-c7aa-4569-a428-58b81ab76c28",
   "metadata": {
    "execution": {
     "iopub.execute_input": "2021-12-17T16:35:41.522253Z",
     "iopub.status.busy": "2021-12-17T16:35:41.521806Z",
     "iopub.status.idle": "2021-12-17T16:35:41.527075Z",
     "shell.execute_reply": "2021-12-17T16:35:41.526295Z",
     "shell.execute_reply.started": "2021-12-17T16:35:41.522215Z"
    },
    "tags": []
   },
   "outputs": [],
   "source": [
    "vp_base_start = (vp_fragment[\"end\"] - 154).values[0]\n",
    "vp_base_end = (vp_base_start + 150)"
   ]
  },
  {
   "cell_type": "code",
   "execution_count": 11,
   "id": "f16a771c-aae7-4feb-8682-92332df55f4a",
   "metadata": {
    "execution": {
     "iopub.execute_input": "2021-12-17T16:35:41.528322Z",
     "iopub.status.busy": "2021-12-17T16:35:41.528042Z",
     "iopub.status.idle": "2021-12-17T16:35:41.538320Z",
     "shell.execute_reply": "2021-12-17T16:35:41.537739Z",
     "shell.execute_reply.started": "2021-12-17T16:35:41.528299Z"
    },
    "tags": []
   },
   "outputs": [
    {
     "data": {
      "text/plain": [
       "150"
      ]
     },
     "execution_count": 11,
     "metadata": {},
     "output_type": "execute_result"
    }
   ],
   "source": [
    "vp_base_end - vp_base_start"
   ]
  },
  {
   "cell_type": "markdown",
   "id": "1dad4389-d622-4d01-8b26-333d7dc4ba36",
   "metadata": {},
   "source": [
    "### Unmapped slices (gibberish)"
   ]
  },
  {
   "cell_type": "code",
   "execution_count": 12,
   "id": "509e65db-4481-480b-ac0d-77c31a4842a3",
   "metadata": {
    "execution": {
     "iopub.execute_input": "2021-12-17T16:35:41.539489Z",
     "iopub.status.busy": "2021-12-17T16:35:41.539216Z",
     "iopub.status.idle": "2021-12-17T16:35:41.544475Z",
     "shell.execute_reply": "2021-12-17T16:35:41.543700Z",
     "shell.execute_reply.started": "2021-12-17T16:35:41.539468Z"
    },
    "tags": []
   },
   "outputs": [],
   "source": [
    "def get_viewpoint_overlap(fasta, chrom, viewpoint_end, viewpoint_overlap, add_restriction_site=True):\n",
    "    start = viewpoint_end - viewpoint_overlap\n",
    "    end = start + viewpoint_overlap\n",
    "    seq = BedTool().seq((chrom, start, end), fasta)\n",
    "    \n",
    "    if add_restriction_site:\n",
    "        seq = \"\".join([seq, \"GATC\"])\n",
    "        \n",
    "    return seq"
   ]
  },
  {
   "cell_type": "code",
   "execution_count": 13,
   "id": "1b0a8029-8eda-4d1a-a3c5-006c4ddf76a1",
   "metadata": {
    "execution": {
     "iopub.execute_input": "2021-12-17T16:35:41.547717Z",
     "iopub.status.busy": "2021-12-17T16:35:41.547395Z",
     "iopub.status.idle": "2021-12-17T16:35:41.551628Z",
     "shell.execute_reply": "2021-12-17T16:35:41.551009Z",
     "shell.execute_reply.started": "2021-12-17T16:35:41.547695Z"
    },
    "tags": []
   },
   "outputs": [],
   "source": [
    "def get_unmapped_read(fasta, chrom, viewpoint_end, viewpoint_overlap, length):\n",
    "    unmapped_vp_seq = get_viewpoint_overlap(fasta, chrom, viewpoint_end, viewpoint_overlap, add_restriction_site=True)\n",
    "    unmapped_slice = \"\".join(np.random.choice([\"A\", \"G\", \"T\", \"C\"], (length - viewpoint_overlap - 4)))\n",
    "    return \"\".join([unmapped_vp_seq, unmapped_slice])\n",
    "    "
   ]
  },
  {
   "cell_type": "code",
   "execution_count": 14,
   "id": "f184fbe9-42fe-4173-8b44-7d7181eb2627",
   "metadata": {
    "execution": {
     "iopub.execute_input": "2021-12-17T16:35:41.552696Z",
     "iopub.status.busy": "2021-12-17T16:35:41.552303Z",
     "iopub.status.idle": "2021-12-17T16:35:41.711562Z",
     "shell.execute_reply": "2021-12-17T16:35:41.710499Z",
     "shell.execute_reply.started": "2021-12-17T16:35:41.552673Z"
    },
    "tags": []
   },
   "outputs": [
    {
     "data": {
      "text/plain": [
       "['CAACCAGCTTTAGCATTCCGAAGGCGATCTGCGGGCCGAGCCCCAATAATGGAAATGACGTGATCTGCGCTATTTGCGTTTGTTCGTGCCAATACTTCGGCGTGTCTGGACGATAGCGCCCGAGAACGGCAGCTGTACCATATAAGTGCG',\n",
       " 'CAACCAGCTTTAGCATTCCGAAGGCGATCCTATAACTGTGAGATCAATGCCGCCTCCCGATCCCGTCCTGGCAGCGATCGAGGCGCTCGAGGGAATCGTTCTCGAGGCCTCCGTCAGGTGTGCTGCGAGGCTTTATTCAGAATCGGGTAA',\n",
       " 'CAACCAGCTTTAGCATTCCGAAGGCGATCCTGACTACGACGCGATGGGTTGATTTTAATTTAGCAAGAGTTCAAAGAATAGCAGAGTGTCCGTAAGTCGTGCCTGCCCGTCCGATACTTACCCTATAGTTCCCTATTCCATGTTTGTCTG',\n",
       " 'CAACCAGCTTTAGCATTCCGAAGGCGATCAAACCATCCGTCAGCCGGTACCTGTTGGGTACTCTGAACTAAGTTACCATAAAACCGGTTTAATTTGAAGTGTTTGGGCACCTCACATACCTGAGTGGGTATGAGAATCGGTGTGGACCCA',\n",
       " 'CAACCAGCTTTAGCATTCCGAAGGCGATCGGCAGCACGCGTCAACTTGAGATAGTATCAACTCAGCTCGTGACTGTGCATGCTCGGTTATGACTGAGCCATGAAACTCGACAGACATGAATAATTTGCTACCATGGAGGGGCCTGTGGTC',\n",
       " 'CAACCAGCTTTAGCATTCCGAAGGCGATCGAAAGGCAGGGATAGGCACCTGCCGGGTAGTGCCGTACCGGCGATGTTCAGCTAATCCACGACACTATCCAGCCTACGAGTAAGTTTTCTTTCATCGTTAATCAAATTGGGCCATTCTGCT',\n",
       " 'CAACCAGCTTTAGCATTCCGAAGGCGATCACTTGTCCATTCGTATCACTAGAATTTATGTAACTGTGGTATAGACGCAGTTCCTGTGGCTCCACTACGAAGGAAGGTAAGTTAAGTTCCATTCTGAAGGCTCGGCGCTCAGGATCCTATC',\n",
       " 'CAACCAGCTTTAGCATTCCGAAGGCGATCCGGGGCTCCACCGTTTAGTCAATGATTACTATTTTAATACCGAGAGGTCTCAGCGTTATTGAGAACTGTGTCGCCCTGCCCGGCACGGTTAGTGACGTAGGGCTTTCACGGAGAAGCTTGC',\n",
       " 'CAACCAGCTTTAGCATTCCGAAGGCGATCAGTTGATCGAGTGCATGCAGGGACATTACGAAGTTTCAGTGCGTGATCCGTATAATTCATTCACTTTTCCGGCTCCTTACAATTGAAGTCGCTGTCCGTGACCTTACGGTATGCCCCATCG',\n",
       " 'CAACCAGCTTTAGCATTCCGAAGGCGATCGGATCCCGCGATTGCAGGTATTCCACTACTCACCCCTTGCAAGCCTATAGTAATTTAGGATATATACATTGCTTATGTTTGGTAATGCTTGTTAGATCTTGTTCGAGTCATCATACAGACT']"
      ]
     },
     "execution_count": 14,
     "metadata": {},
     "output_type": "execute_result"
    }
   ],
   "source": [
    "unmaped_sequences = [get_unmapped_read(fasta, \"chr14\", vp_base_end, 25, 150) for _ in range(10)]\n",
    "unmaped_sequences"
   ]
  },
  {
   "cell_type": "markdown",
   "id": "a6dcf091-4c56-4825-9f00-474573c960dc",
   "metadata": {},
   "source": [
    "### Orphan slices  (no viewpoint, anywhere in the genome)"
   ]
  },
  {
   "cell_type": "code",
   "execution_count": 15,
   "id": "066d7761-a38d-45b6-b568-34bc29cfcdbe",
   "metadata": {
    "execution": {
     "iopub.execute_input": "2021-12-17T16:35:41.713849Z",
     "iopub.status.busy": "2021-12-17T16:35:41.713253Z",
     "iopub.status.idle": "2021-12-17T16:35:41.718197Z",
     "shell.execute_reply": "2021-12-17T16:35:41.717449Z",
     "shell.execute_reply.started": "2021-12-17T16:35:41.713809Z"
    },
    "tags": []
   },
   "outputs": [],
   "source": [
    "bt = BedTool()"
   ]
  },
  {
   "cell_type": "code",
   "execution_count": 16,
   "id": "c056fcb3-9844-4ebe-8343-ecc72656498e",
   "metadata": {
    "execution": {
     "iopub.execute_input": "2021-12-17T16:35:41.719578Z",
     "iopub.status.busy": "2021-12-17T16:35:41.719242Z",
     "iopub.status.idle": "2021-12-17T16:35:42.331222Z",
     "shell.execute_reply": "2021-12-17T16:35:42.330371Z",
     "shell.execute_reply.started": "2021-12-17T16:35:41.719548Z"
    },
    "tags": []
   },
   "outputs": [],
   "source": [
    "fasta_extent = [len(chrom.sequence) for chrom in pysam.FastxFile(fasta)][0]"
   ]
  },
  {
   "cell_type": "code",
   "execution_count": 17,
   "id": "86c3a397-0114-4392-acd3-c42b52fc6fe2",
   "metadata": {
    "execution": {
     "iopub.execute_input": "2021-12-17T16:35:42.332599Z",
     "iopub.status.busy": "2021-12-17T16:35:42.332357Z",
     "iopub.status.idle": "2021-12-17T16:35:42.497410Z",
     "shell.execute_reply": "2021-12-17T16:35:42.495952Z",
     "shell.execute_reply.started": "2021-12-17T16:35:42.332574Z"
    },
    "tags": []
   },
   "outputs": [],
   "source": [
    "orphan_starts = np.random.randint(0, high=fasta_extent, size=(10,)) \n",
    "orphan_ends = orphan_starts + 150\n",
    "orphan_sequences = [bt.seq((\"chr14\", start, end), fasta) for (start, end) in zip(orphan_starts, orphan_ends)]\n",
    "orphan_sequences_with_cutsite = [\"\".join([seq[:len(seq)//2], \"GATC\", seq[len(seq)//2:-4]]) for seq in orphan_sequences]"
   ]
  },
  {
   "cell_type": "code",
   "execution_count": 18,
   "id": "fdc9f50b-a4ac-4fe2-abe8-2c74b79f1c70",
   "metadata": {
    "execution": {
     "iopub.execute_input": "2021-12-17T16:35:42.500934Z",
     "iopub.status.busy": "2021-12-17T16:35:42.500451Z",
     "iopub.status.idle": "2021-12-17T16:35:42.506031Z",
     "shell.execute_reply": "2021-12-17T16:35:42.505422Z",
     "shell.execute_reply.started": "2021-12-17T16:35:42.500904Z"
    },
    "tags": []
   },
   "outputs": [
    {
     "data": {
      "text/plain": [
       "['ACTGAACAAGAATTACATTGTATACAAACCACATTTTCTTTTCTTTCAAAAAATCGTTTTTgccagacgtggtagGATCtacacccctttaatcccagcacttgggaggcagaggcaggcagatttctgagttcaaggccagcctggtct',\n",
       " 'GTCTTACACCAAAGGCATTTCCAATCTTGCAGGCGAAGCACACTGCCACAGGTTTTGTCACAGACTGCACACTTGGATCGCACTCACAGGCAAGTTGCCTTCGAGCCACTGGTGAGGCATGGCAACCTGCGGACAGGAAGAAGTAATGGT',\n",
       " 'AGGGACTTGGAGGATAATAGACCTGGAAAATATCTTGGAGGAGGTAAATCTTGTATGCATTTTGAGTCCTAAAAGGATCTGCTTTTAGCTTTGGAAGTGGGGACTAATTAGAAATACTTGCCTTTATAATTCAAATCCTCATTTAATATT',\n",
       " 'TATGATGTGTATAGtattatagtgtagtataccaactataatatactatactataccactatagtattactatatGATCagtattatagtatacaatacCACTATAGTATTAATGGATTATGAAGTCTGATTTAACCCTGACCAATGCTA',\n",
       " 'AAGTGCTAACTGTAAAGTTAGAAGATATTTTGGGGATGTAGGGAAGGATTCTGGGCACTGTGTCCTTGGGAATTCGATCTGAGAGGAACAGTGGAGGAAGGGCTGTCTAACGCTCATGGAAGTGACTGTCCAATATTTTAGGATTCAATG',\n",
       " 'CCGTATAAAATTCTAATTGCCGTTAAATGTTTTCTTTAAACTAAAAATCTTTATTAGAAGAACAGAAggctgaggGATCagatggttcagtgggtaaggcatgggctgtgtgagcacgaggaattgagttcagatcttcaggacccacat',\n",
       " 'taaagctgacatattgcttagaggaattgagacaggctgttaagtccagttatactataccttgttattagcaacGATCttagaaagtagtgtggatgctagtcaggtagtctggtgaaggtttgtttccagaaaccttccaatattttc',\n",
       " 'AGATTTAACATAGTTTACAGTGTGTCTCTTTTAAAAAATCAGAGATGAATTCTTTTAAAGCCTTAAAACTACTGAGATCAGAGTTGTTTTTTAACTATATGCCTTTTCTAAATAACTTACACCTGTTTGTTAAGTGTCATAGCATGCTTC',\n",
       " 'ATTATACGTCATCTTAAGAAAAGCTCTGCATTAAATGTAACATACTCTAATTTTATTATTTCTAGTGCTAAAATAGATCAGAGCCGAGATCAAGTGATAAAAAGAAATATTGTGATAGACAAGGATGAATACATTTGGCTCATGTTATTT',\n",
       " 'AGTTAAGTCGTCATGGTATAGATTGTATGTCTTATAAAGTAAAATACTTACCACCTAGTTTTTTAAGAAAAAAATGATCCACACTAGCCCTATGGTAAAACACTGTTTACATTTCAGTACACAGCTTGAAATGATGCAGATGATGGAGTC']"
      ]
     },
     "execution_count": 18,
     "metadata": {},
     "output_type": "execute_result"
    }
   ],
   "source": [
    "orphan_sequences_with_cutsite"
   ]
  },
  {
   "cell_type": "markdown",
   "id": "ae68ef15-07f7-48ad-bbc9-b90fb5b1ceed",
   "metadata": {},
   "source": [
    "### Multicapture (N/A for now)"
   ]
  },
  {
   "cell_type": "markdown",
   "id": "8f763679-3bf0-44ad-a3a1-0a52c81fcafe",
   "metadata": {},
   "source": [
    "### Excluded"
   ]
  },
  {
   "cell_type": "code",
   "execution_count": 19,
   "id": "07fe3156-6a21-4227-98d0-8b7c4b99e99c",
   "metadata": {
    "execution": {
     "iopub.execute_input": "2021-12-17T16:35:42.507313Z",
     "iopub.status.busy": "2021-12-17T16:35:42.507101Z",
     "iopub.status.idle": "2021-12-17T16:35:42.512896Z",
     "shell.execute_reply": "2021-12-17T16:35:42.511932Z",
     "shell.execute_reply.started": "2021-12-17T16:35:42.507293Z"
    },
    "tags": []
   },
   "outputs": [],
   "source": [
    "def get_sequences_from_fragment(fragment_coords: pd.Series, fasta: str, viewpoint_end: int, n_sequences=10):\n",
    "    starts = np.random.randint(low=fragment_coords[\"start\"], high=fragment_coords[\"end\"], size=(n_sequences))\n",
    "    ends = starts + (150 - 25 - 4)\n",
    "    chrom = fragment_coords[\"chrom\"]\n",
    "    sequences = [\"\".join([get_viewpoint_overlap(fasta, chrom, viewpoint_end, 25), bt.seq((chrom, start, end), fasta)]) for start, end in zip(starts, ends)]\n",
    "    return sequences"
   ]
  },
  {
   "cell_type": "code",
   "execution_count": 20,
   "id": "6bb01e4c-1b13-4dd9-a485-ea27938f2dcf",
   "metadata": {
    "execution": {
     "iopub.execute_input": "2021-12-17T16:35:42.514704Z",
     "iopub.status.busy": "2021-12-17T16:35:42.514239Z",
     "iopub.status.idle": "2021-12-17T16:35:42.520373Z",
     "shell.execute_reply": "2021-12-17T16:35:42.519516Z",
     "shell.execute_reply.started": "2021-12-17T16:35:42.514666Z"
    },
    "tags": []
   },
   "outputs": [],
   "source": [
    "adj_fragment_coords = df_restriction_fragments.loc[adjacent_fragments[0]]"
   ]
  },
  {
   "cell_type": "code",
   "execution_count": 21,
   "id": "5f8091cb-4630-43c4-8937-85d4d1c771e0",
   "metadata": {
    "execution": {
     "iopub.execute_input": "2021-12-17T16:35:42.522576Z",
     "iopub.status.busy": "2021-12-17T16:35:42.521762Z",
     "iopub.status.idle": "2021-12-17T16:35:42.525913Z",
     "shell.execute_reply": "2021-12-17T16:35:42.525054Z",
     "shell.execute_reply.started": "2021-12-17T16:35:42.522535Z"
    },
    "tags": []
   },
   "outputs": [],
   "source": [
    "# adj_starts = np.random.randint(low=adj_fragment_coords[\"start\"], high=adj_fragment_coords[\"end\"], size=(10))\n",
    "# adj_ends = adj_starts + (150 - 25 - 4)\n",
    "# excluded_sequences = [\"\".join([get_viewpoint_overlap(fasta, \"chr14\", vp_base_end, 25), bt.seq((\"chr14\", start, end), fasta)]) for start, end in zip(adj_starts, adj_ends)]"
   ]
  },
  {
   "cell_type": "code",
   "execution_count": 22,
   "id": "9a0a8b4c-b707-4f86-a340-10fe153c8dc5",
   "metadata": {
    "execution": {
     "iopub.execute_input": "2021-12-17T16:35:42.527816Z",
     "iopub.status.busy": "2021-12-17T16:35:42.527092Z",
     "iopub.status.idle": "2021-12-17T16:35:42.802164Z",
     "shell.execute_reply": "2021-12-17T16:35:42.799269Z",
     "shell.execute_reply.started": "2021-12-17T16:35:42.527791Z"
    },
    "tags": []
   },
   "outputs": [],
   "source": [
    "excluded_sequences = get_sequences_from_fragment(adj_fragment_coords, fasta, vp_base_end)"
   ]
  },
  {
   "cell_type": "markdown",
   "id": "3c95e79b-9e70-4fe8-a7dc-13905b39cfdd",
   "metadata": {},
   "source": [
    "### Blacklisted (N/A for now)"
   ]
  },
  {
   "cell_type": "code",
   "execution_count": null,
   "id": "20f1ff03-3c00-426e-9448-98e7bc542472",
   "metadata": {},
   "outputs": [],
   "source": []
  },
  {
   "cell_type": "markdown",
   "id": "96d238fc-1448-4ddf-9d95-e1626eb3802c",
   "metadata": {},
   "source": [
    "### Non reporter (Just a viewpoint slice)\n",
    "\n",
    "Can just use the gibberish slices for this as they will just have one slice"
   ]
  },
  {
   "cell_type": "markdown",
   "id": "817a7100-c476-4380-a47f-8372506af3fd",
   "metadata": {},
   "source": [
    "### Duplicate restriction fragments"
   ]
  },
  {
   "cell_type": "code",
   "execution_count": 23,
   "id": "645e77e6-1cfb-4445-9377-6fe4b83b07ad",
   "metadata": {
    "execution": {
     "iopub.execute_input": "2021-12-17T16:35:42.805215Z",
     "iopub.status.busy": "2021-12-17T16:35:42.804625Z",
     "iopub.status.idle": "2021-12-17T16:35:42.812787Z",
     "shell.execute_reply": "2021-12-17T16:35:42.811724Z",
     "shell.execute_reply.started": "2021-12-17T16:35:42.805165Z"
    }
   },
   "outputs": [],
   "source": [
    "same_re_fragment_coords = df_restriction_fragments.loc[adjacent_fragments[0] + 100]"
   ]
  },
  {
   "cell_type": "code",
   "execution_count": 24,
   "id": "4889deda-e27b-498c-8abd-c0f9478e15de",
   "metadata": {
    "execution": {
     "iopub.execute_input": "2021-12-17T16:35:42.814593Z",
     "iopub.status.busy": "2021-12-17T16:35:42.814129Z",
     "iopub.status.idle": "2021-12-17T16:35:42.823345Z",
     "shell.execute_reply": "2021-12-17T16:35:42.822447Z",
     "shell.execute_reply.started": "2021-12-17T16:35:42.814553Z"
    }
   },
   "outputs": [
    {
     "data": {
      "text/plain": [
       "chrom       chr14\n",
       "start    69945565\n",
       "end      69945713\n",
       "name       169737\n",
       "Name: 169737, dtype: object"
      ]
     },
     "execution_count": 24,
     "metadata": {},
     "output_type": "execute_result"
    }
   ],
   "source": [
    "same_re_fragment_coords"
   ]
  },
  {
   "cell_type": "code",
   "execution_count": 25,
   "id": "1f0b2032-b46e-431c-8b8f-072ee29279f3",
   "metadata": {
    "execution": {
     "iopub.execute_input": "2021-12-17T16:35:42.825244Z",
     "iopub.status.busy": "2021-12-17T16:35:42.824795Z",
     "iopub.status.idle": "2021-12-17T16:35:42.830946Z",
     "shell.execute_reply": "2021-12-17T16:35:42.829978Z",
     "shell.execute_reply.started": "2021-12-17T16:35:42.825206Z"
    },
    "tags": []
   },
   "outputs": [],
   "source": [
    "same_starts = np.random.randint(low=same_re_fragment_coords[\"start\"], high=same_re_fragment_coords[\"end\"], size=(10))\n",
    "same_mids = same_starts + ((150 - 25 - 8) // 2)\n",
    "same_ends = same_starts + 150 - 8 - 25"
   ]
  },
  {
   "cell_type": "code",
   "execution_count": 26,
   "id": "ef1bcba7-bcac-4bbc-b211-37069bfc143f",
   "metadata": {
    "execution": {
     "iopub.execute_input": "2021-12-17T16:35:42.832927Z",
     "iopub.status.busy": "2021-12-17T16:35:42.832200Z",
     "iopub.status.idle": "2021-12-17T16:35:43.211620Z",
     "shell.execute_reply": "2021-12-17T16:35:43.209872Z",
     "shell.execute_reply.started": "2021-12-17T16:35:42.832891Z"
    },
    "tags": []
   },
   "outputs": [],
   "source": [
    "same_fragment_sequences = [\"\".join([get_viewpoint_overlap(fasta, \"chr14\", vp_base_end, 25), \n",
    "          bt.seq((\"chr14\", start, mid), fasta), \n",
    "          \"GATC\", \n",
    "          bt.seq((\"chr14\", mid, end), fasta).replace(\"GATC\", \"GATT\")]) \n",
    " for start, mid, end in zip(same_starts, same_mids, same_ends)]"
   ]
  },
  {
   "cell_type": "code",
   "execution_count": null,
   "id": "5e1b974d-8594-44b3-a7cb-c6e54132bfca",
   "metadata": {},
   "outputs": [],
   "source": []
  },
  {
   "cell_type": "markdown",
   "id": "2d3c30f9-4d86-4d45-bebe-3545a875fc05",
   "metadata": {},
   "source": [
    "### Duplicates (Flashed)\n",
    "\n",
    "Will make duplicates for this fragment\n",
    "chr14:69922733-69923656\n",
    "\n",
    "\n",
    "Need to edit one of the bases at random in the slice to stop the duplicate filter from removing this\n"
   ]
  },
  {
   "cell_type": "code",
   "execution_count": 27,
   "id": "456ddf86-efb9-45b3-b16e-0ff533bf3dfe",
   "metadata": {
    "execution": {
     "iopub.execute_input": "2021-12-17T16:35:43.214553Z",
     "iopub.status.busy": "2021-12-17T16:35:43.214059Z",
     "iopub.status.idle": "2021-12-17T16:35:43.221829Z",
     "shell.execute_reply": "2021-12-17T16:35:43.220923Z",
     "shell.execute_reply.started": "2021-12-17T16:35:43.214502Z"
    },
    "tags": []
   },
   "outputs": [],
   "source": [
    "def mutate_basepair(seq, start, end):\n",
    "    mutation_index = np.random.randint(start, end)\n",
    "    replacement = np.random.choice([\"G\", \"A\", \"T\", \"C\"])\n",
    "    return \"\".join([seq[:mutation_index], replacement, seq[mutation_index+1:]])"
   ]
  },
  {
   "cell_type": "code",
   "execution_count": 28,
   "id": "852d3124-86c7-44da-a47b-7e7ced7ef88f",
   "metadata": {
    "execution": {
     "iopub.execute_input": "2021-12-17T16:35:43.224106Z",
     "iopub.status.busy": "2021-12-17T16:35:43.223260Z",
     "iopub.status.idle": "2021-12-17T16:35:43.462048Z",
     "shell.execute_reply": "2021-12-17T16:35:43.461103Z",
     "shell.execute_reply.started": "2021-12-17T16:35:43.224062Z"
    },
    "tags": []
   },
   "outputs": [],
   "source": [
    "duplicate_coords_sequences = [\"\".join([get_viewpoint_overlap(fasta, \"chr14\", vp_base_end, 25),  bt.seq((\"chr14\", 69922733, 69922733 + 150 - 25 - 4), fasta)]) for _ in range(10)]\n",
    "duplicate_coords_sequences_random_mutation = [mutate_basepair(seq, 30, 120) for seq in duplicate_coords_sequences]"
   ]
  },
  {
   "cell_type": "code",
   "execution_count": 29,
   "id": "a3aac875-2cb1-4ded-a123-3bf9d7b0b4ac",
   "metadata": {
    "execution": {
     "iopub.execute_input": "2021-12-17T16:35:43.463762Z",
     "iopub.status.busy": "2021-12-17T16:35:43.463327Z",
     "iopub.status.idle": "2021-12-17T16:35:43.468157Z",
     "shell.execute_reply": "2021-12-17T16:35:43.467498Z",
     "shell.execute_reply.started": "2021-12-17T16:35:43.463735Z"
    },
    "tags": []
   },
   "outputs": [
    {
     "data": {
      "text/plain": [
       "['CAACCAGCTTTAGCATTCCGAAGGCGATCTCCTCCCTAAGGCTCTGGGCAGAAAAGGAACAAGAACATAGTCGGGTTCAGAAGTTTTATCTTTAAGCTTATTTCTGGCTGGGAGTACCCAGCACAGCCTATCATAGTTTTTTAAAACAGC',\n",
       " 'CAACCAGCTTTAGCATTCCGAAGGCGATCTCCTCCCTAAGGCTCTGGGCAGAAAAGGAACAAGAACATAGCCGAGTTCAGAAGTTTTATCTTTAAGCTTATTTCTGGCTGGGAGTACCCAGCACAGCCTATCATAGTTTTTTAAAACAGC',\n",
       " 'CAACCAGCTTTAGCATTCCGAAGGCGATCTCCTCCCTAAGGCTCTGGGCAGAAAAGGAACAAGAACATAGCCGGGTTCAGAAGTTTTAGCTTTAAGCTTATTTCTGGCTGGGAGTACCCAGCACAGCCTATCATAGTTTTTTAAAACAGC',\n",
       " 'CAACCAGCTTTAGCATTCCGAAGGCGATCTCCTCCCTATGGCTCTGGGCAGAAAAGGAACAAGAACATAGCCGGGTTCAGAAGTTTTATCTTTAAGCTTATTTCTGGCTGGGAGTACCCAGCACAGCCTATCATAGTTTTTTAAAACAGC',\n",
       " 'CAACCAGCTTTAGCATTCCGAAGGCGATCTCCTCCCTAAGGCTCTGGGCAGAAAAGGAACAAGAACATAGCCGGGTTCAGAAGTTTTATCTTTAAGCTTATTTCTGGCTGGGAGTACCCAGCACAGCCTATCATAGTTTTTTAAAACAGC',\n",
       " 'CAACCAGCTTTAGCATTCCGAAGGCGATCTCCTCCCTAAGGCTCTGGGCAGAAAAGGAACAAGAACATAGCCGGGTTCAGAAGTTTAATCTTTAAGCTTATTTCTGGCTGGGAGTACCCAGCACAGCCTATCATAGTTTTTTAAAACAGC',\n",
       " 'CAACCAGCTTTAGCATTCCGAAGGCGATCTCCTCTCTAAGGCTCTGGGCAGAAAAGGAACAAGAACATAGCCGGGTTCAGAAGTTTTATCTTTAAGCTTATTTCTGGCTGGGAGTACCCAGCACAGCCTATCATAGTTTTTTAAAACAGC',\n",
       " 'CAACCAGCTTTAGCATTCCGAAGGCGATCTCCTCCCTAAGGCTCTGGGCAGAAAAGGAACAAGAACATAGCCGGGTTCAGAAGTTTTATCTTTAAGCTTATTTCTGGCTGGGAGTACCCAGCACAGCCTATCATAGTTTTTTAAAACAGC',\n",
       " 'CAACCAGCTTTAGCATTCCGAAGGCGATCTCCTCCCTAAGGCTCTGGGCAGAAAAGGAACAAAAACATAGCCGGGTTCAGAAGTTTTATCTTTAAGCTTATTTCTGGCTGGGAGTACCCAGCACAGCCTATCATAGTTTTTTAAAACAGC',\n",
       " 'CAACCAGCTTTAGCATTCCGAAGGCGATCTCCTCCCTAACGCTCTGGGCAGAAAAGGAACAAGAACATAGCCGGGTTCAGAAGTTTTATCTTTAAGCTTATTTCTGGCTGGGAGTACCCAGCACAGCCTATCATAGTTTTTTAAAACAGC']"
      ]
     },
     "execution_count": 29,
     "metadata": {},
     "output_type": "execute_result"
    }
   ],
   "source": [
    "duplicate_coords_sequences_random_mutation"
   ]
  },
  {
   "cell_type": "markdown",
   "id": "8eb1bcd0-13fe-4ed6-9923-d3fe11a92701",
   "metadata": {},
   "source": [
    "### True reporters (Flashed)\n",
    "\n",
    "Will use this fragment:\n",
    "chr14:69878304-69878786"
   ]
  },
  {
   "cell_type": "code",
   "execution_count": 30,
   "id": "29856ede-bba0-46b5-998b-536b7a7c7435",
   "metadata": {
    "execution": {
     "iopub.execute_input": "2021-12-17T16:35:43.469055Z",
     "iopub.status.busy": "2021-12-17T16:35:43.468861Z",
     "iopub.status.idle": "2021-12-17T16:35:43.473255Z",
     "shell.execute_reply": "2021-12-17T16:35:43.472498Z",
     "shell.execute_reply.started": "2021-12-17T16:35:43.469035Z"
    },
    "tags": []
   },
   "outputs": [],
   "source": [
    "reporter_coords = {\"chrom\":\"chr14\", \"start\":69878304, \"end\":69878786}"
   ]
  },
  {
   "cell_type": "code",
   "execution_count": 31,
   "id": "c4f415f5-8a14-4487-9831-bbf21cafe483",
   "metadata": {
    "execution": {
     "iopub.execute_input": "2021-12-17T16:35:43.474035Z",
     "iopub.status.busy": "2021-12-17T16:35:43.473839Z",
     "iopub.status.idle": "2021-12-17T16:35:46.127980Z",
     "shell.execute_reply": "2021-12-17T16:35:46.125770Z",
     "shell.execute_reply.started": "2021-12-17T16:35:43.474015Z"
    },
    "tags": []
   },
   "outputs": [],
   "source": [
    "reporter_sequences = get_sequences_from_fragment(reporter_coords, fasta, vp_base_end, n_sequences=100)"
   ]
  },
  {
   "cell_type": "markdown",
   "id": "5901974f-7f0b-4800-96b7-f1b4b215fb1a",
   "metadata": {},
   "source": [
    "## True reporters (PE)"
   ]
  },
  {
   "cell_type": "code",
   "execution_count": 32,
   "id": "bb71ef84-58e4-4f2a-ae57-b78569e61afc",
   "metadata": {
    "execution": {
     "iopub.execute_input": "2021-12-17T16:35:46.131723Z",
     "iopub.status.busy": "2021-12-17T16:35:46.130971Z",
     "iopub.status.idle": "2021-12-17T16:35:47.529075Z",
     "shell.execute_reply": "2021-12-17T16:35:47.527554Z",
     "shell.execute_reply.started": "2021-12-17T16:35:46.131673Z"
    },
    "tags": []
   },
   "outputs": [],
   "source": [
    "starts = np.random.randint(reporter_coords[\"start\"],reporter_coords[\"end\"], size=(100,))\n",
    "ends = starts + 146\n",
    "reporter_sequences_pe = [bt.seq((reporter_coords[\"chrom\"], start, end), fasta) for start, end in zip(starts, ends)]"
   ]
  },
  {
   "cell_type": "markdown",
   "id": "2e2cee6e-725a-4604-9229-1b73962ba2f0",
   "metadata": {},
   "source": [
    "# Generate fastq file using these data\n",
    "\n",
    "Highest quality == \"~\""
   ]
  },
  {
   "cell_type": "code",
   "execution_count": 33,
   "id": "ee4c2983-f17e-4370-ac08-fd99770f0c06",
   "metadata": {
    "execution": {
     "iopub.execute_input": "2021-12-17T16:35:47.532175Z",
     "iopub.status.busy": "2021-12-17T16:35:47.531452Z",
     "iopub.status.idle": "2021-12-17T16:35:47.560089Z",
     "shell.execute_reply": "2021-12-17T16:35:47.558914Z",
     "shell.execute_reply.started": "2021-12-17T16:35:47.532123Z"
    },
    "tags": []
   },
   "outputs": [
    {
     "data": {
      "text/plain": [
       "'CTAGAGGGTGGTGACCATCTGCAAGGGACAGTCAGGTCCCTGGGGAGAGTCAGCAGAAGGGATATGCTCAGAGCTGCAAGAGCAGGAGAAGGGGCTGTCCCCAGAATCGGTAGTTTTGCAGACACTAATCAACCAGCTTTAGCATTCCGAAGGCTGGG'"
      ]
     },
     "execution_count": 33,
     "metadata": {},
     "output_type": "execute_result"
    }
   ],
   "source": [
    "viewpoint_sequence = bt.seq((\"chr14\", vp_base_end-154, vp_base_end+4), fasta)\n",
    "viewpoint_sequence"
   ]
  },
  {
   "cell_type": "code",
   "execution_count": 34,
   "id": "febc4cf2-c5f6-43a8-b2ef-3efb008fad48",
   "metadata": {
    "execution": {
     "iopub.execute_input": "2021-12-17T16:35:47.562749Z",
     "iopub.status.busy": "2021-12-17T16:35:47.562124Z",
     "iopub.status.idle": "2021-12-17T16:35:47.569158Z",
     "shell.execute_reply": "2021-12-17T16:35:47.568130Z",
     "shell.execute_reply.started": "2021-12-17T16:35:47.562696Z"
    },
    "tags": []
   },
   "outputs": [],
   "source": [
    "sequences_for_fastq = {\"unmapped\": unmaped_sequences, \n",
    "                       \"orphan\": orphan_sequences_with_cutsite, \n",
    "                       \"excluded\": excluded_sequences, \n",
    "                       \"duplicate_rf\": same_fragment_sequences,\n",
    "                       \"duplicate_coords\": duplicate_coords_sequences_random_mutation,\n",
    "                       \"reporters_flashed\": reporter_sequences,\n",
    "                       \"reporters_pe\": reporter_sequences_pe,}"
   ]
  },
  {
   "cell_type": "code",
   "execution_count": 35,
   "id": "c4eb89fe-534c-4caf-862e-44bfd5a5cbe8",
   "metadata": {
    "execution": {
     "iopub.execute_input": "2021-12-17T16:35:47.571077Z",
     "iopub.status.busy": "2021-12-17T16:35:47.570577Z",
     "iopub.status.idle": "2021-12-17T16:35:47.576250Z",
     "shell.execute_reply": "2021-12-17T16:35:47.575188Z",
     "shell.execute_reply.started": "2021-12-17T16:35:47.571033Z"
    }
   },
   "outputs": [],
   "source": [
    "SAMPLE_NAME = \"SAMPLE-B\""
   ]
  },
  {
   "cell_type": "code",
   "execution_count": 36,
   "id": "6af0ae45-13eb-4a72-a579-88c10266f32d",
   "metadata": {
    "execution": {
     "iopub.execute_input": "2021-12-17T16:35:47.578285Z",
     "iopub.status.busy": "2021-12-17T16:35:47.577638Z",
     "iopub.status.idle": "2021-12-17T16:35:47.600673Z",
     "shell.execute_reply": "2021-12-17T16:35:47.599535Z",
     "shell.execute_reply.started": "2021-12-17T16:35:47.578242Z"
    },
    "tags": []
   },
   "outputs": [],
   "source": [
    "n_reporters = {k: len(v) for k, v in sequences_for_fastq.items()}\n",
    "ser = pd.Series(n_reporters)\n",
    "ser.to_frame(\"n_reads\").rename_axis(index=\"category\").reset_index().to_csv(f\"tests/data/data_for_pipeline_run/{SAMPLE_NAME}\", index=False) "
   ]
  },
  {
   "cell_type": "code",
   "execution_count": 37,
   "id": "931daf19-d7c6-4dc9-931e-1f982bd86c10",
   "metadata": {
    "execution": {
     "iopub.execute_input": "2021-12-17T16:35:47.602332Z",
     "iopub.status.busy": "2021-12-17T16:35:47.601946Z",
     "iopub.status.idle": "2021-12-17T16:35:47.614371Z",
     "shell.execute_reply": "2021-12-17T16:35:47.613672Z",
     "shell.execute_reply.started": "2021-12-17T16:35:47.602301Z"
    },
    "tags": []
   },
   "outputs": [],
   "source": [
    "with open(\"SAMPLE-B_REP2_1.fastq\", \"w\") as writer:\n",
    "    for category, sequences in sequences_for_fastq.items():\n",
    "        for ii, sequence in enumerate(sequences):\n",
    "            if not category == \"orphan\":\n",
    "                record = pysam.FastxRecord(name=f\"{category}_{ii}\", sequence=viewpoint_sequence, quality=\"\".join([\"~\" for _ in range(len(viewpoint_sequence))]))\n",
    "                writer.write(str(record) + \"\\n\")\n",
    "            else:\n",
    "                # Just use the orphan sequence twice in reverse\n",
    "                record = pysam.FastxRecord(name=f\"{category}_{ii}\", sequence=sequence[::-1], quality=\"\".join([\"~\" for _ in range(len(sequence))]))\n",
    "                writer.write(str(record) + \"\\n\")   "
   ]
  },
  {
   "cell_type": "markdown",
   "id": "0b9d260f-3e05-4188-ad42-44ce3f78c32d",
   "metadata": {},
   "source": [
    "### Might need to reverse the sequence to convince flash"
   ]
  },
  {
   "cell_type": "code",
   "execution_count": 38,
   "id": "f1fca703-538b-4876-9855-75f533d36c30",
   "metadata": {
    "execution": {
     "iopub.execute_input": "2021-12-17T16:35:47.615653Z",
     "iopub.status.busy": "2021-12-17T16:35:47.615379Z",
     "iopub.status.idle": "2021-12-17T16:35:47.626532Z",
     "shell.execute_reply": "2021-12-17T16:35:47.625821Z",
     "shell.execute_reply.started": "2021-12-17T16:35:47.615627Z"
    },
    "tags": []
   },
   "outputs": [],
   "source": [
    "with open(\"SAMPLE-B_REP2_2.fastq\", \"w\") as writer:\n",
    "    for category, sequences in sequences_for_fastq.items():\n",
    "        for ii, sequence in enumerate(sequences):\n",
    "            record = pysam.FastxRecord(name=f\"{category}_{ii}\", sequence=str(Seq.Seq(sequence).reverse_complement()), quality=\"\".join([\"~\" for _ in range(len(sequence))]))\n",
    "            writer.write(str(record) + \"\\n\")"
   ]
  },
  {
   "cell_type": "code",
   "execution_count": 39,
   "id": "2286ba01-e408-42eb-9ad8-ceea0d4c18b7",
   "metadata": {
    "execution": {
     "iopub.execute_input": "2021-12-17T16:35:47.627736Z",
     "iopub.status.busy": "2021-12-17T16:35:47.627484Z",
     "iopub.status.idle": "2021-12-17T16:35:47.813902Z",
     "shell.execute_reply": "2021-12-17T16:35:47.812380Z",
     "shell.execute_reply.started": "2021-12-17T16:35:47.627712Z"
    },
    "tags": []
   },
   "outputs": [],
   "source": [
    "!mv SAMPLE-*_REP*.fastq tests/data/data_for_pipeline_run/"
   ]
  },
  {
   "cell_type": "code",
   "execution_count": 40,
   "id": "a336c319-182b-4bc8-8563-e413ed4597b5",
   "metadata": {
    "execution": {
     "iopub.execute_input": "2021-12-17T16:35:47.820911Z",
     "iopub.status.busy": "2021-12-17T16:35:47.820439Z",
     "iopub.status.idle": "2021-12-17T16:35:47.995165Z",
     "shell.execute_reply": "2021-12-17T16:35:47.993696Z",
     "shell.execute_reply.started": "2021-12-17T16:35:47.820852Z"
    },
    "tags": []
   },
   "outputs": [
    {
     "name": "stdout",
     "output_type": "stream",
     "text": [
      "total 164488\n",
      "drwxr-sr-x 2 asmith milne_groupgrp       116 Dec 16 16:43 chr14_bowtie2_indicies\n",
      "-rw-r--r-- 1 asmith milne_groupgrp 127698769 Jul 20 15:49 chr14.fa\n",
      "-rw-r--r-- 1 asmith milne_groupgrp        24 Jul 20 15:49 chr14.fa.fai\n",
      "-rw-r--r-- 1 asmith milne_groupgrp  39935628 Dec 17 12:43 chr14.fa.gz\n",
      "-rw-r--r-- 1 asmith milne_groupgrp       149 Sep 13 16:59 design_matrix.tsv\n",
      "-rw-r--r-- 1 asmith milne_groupgrp        33 Dec 16 14:00 mm9_capture_oligos_Slc25A37.bed\n",
      "-rw-r--r-- 1 asmith milne_groupgrp    157998 Sep 13 16:59 mm9_chr14_genes.bed\n",
      "-rw-rw-r-- 1 asmith milne_groupgrp     60089 Dec 17 16:25 mm9_chr14_genes.bed.bgz\n",
      "-rw-rw-r-- 1 asmith milne_groupgrp      3380 Dec 17 16:13 mm9_chr14_genes.bed.bgz.tbi\n",
      "drwxr-sr-x 2 asmith milne_groupgrp      4096 Dec 17 12:39 old\n",
      "-rw-r--r-- 1 asmith milne_groupgrp        61 Sep 13 16:59 plot_coords.bed\n",
      "-rw-r--r-- 1 asmith milne_groupgrp        33 Nov 25 17:28 regions_for_norm.bed\n",
      "-rw-r--r-- 1 asmith milne_groupgrp       124 Dec 17 16:33 SAMPLE-A\n",
      "-rw-r--r-- 1 asmith milne_groupgrp     50470 Dec 17 15:23 SAMPLE-A_REP1_1.fastq\n",
      "-rw-r--r-- 1 asmith milne_groupgrp     47830 Dec 17 15:23 SAMPLE-A_REP1_2.fastq\n",
      "-rw-r--r-- 1 asmith milne_groupgrp     50470 Dec 17 16:25 SAMPLE-A_REP2_1.fastq\n",
      "-rw-r--r-- 1 asmith milne_groupgrp     47830 Dec 17 16:25 SAMPLE-A_REP2_2.fastq\n",
      "-rw-r--r-- 1 asmith milne_groupgrp       126 Dec 17 16:35 SAMPLE-B\n",
      "-rw-r--r-- 1 asmith milne_groupgrp     84420 Dec 17 16:34 SAMPLE-B_REP1_1.fastq\n",
      "-rw-r--r-- 1 asmith milne_groupgrp     79780 Dec 17 16:34 SAMPLE-B_REP1_2.fastq\n",
      "-rw-r--r-- 1 asmith milne_groupgrp     84420 Dec 17 16:35 SAMPLE-B_REP2_1.fastq\n",
      "-rw-r--r-- 1 asmith milne_groupgrp     79780 Dec 17 16:35 SAMPLE-B_REP2_2.fastq\n"
     ]
    }
   ],
   "source": [
    "!ls tests/data/data_for_pipeline_run/ -l"
   ]
  },
  {
   "cell_type": "code",
   "execution_count": 41,
   "id": "3b84bd93-88c0-4313-bae9-2947515d0e5c",
   "metadata": {
    "execution": {
     "iopub.execute_input": "2021-12-17T16:35:47.998134Z",
     "iopub.status.busy": "2021-12-17T16:35:47.997498Z",
     "iopub.status.idle": "2021-12-17T16:35:48.259107Z",
     "shell.execute_reply": "2021-12-17T16:35:48.257798Z",
     "shell.execute_reply.started": "2021-12-17T16:35:47.998078Z"
    },
    "tags": []
   },
   "outputs": [
    {
     "name": "stdout",
     "output_type": "stream",
     "text": [
      "[FLASH] Starting FLASH v1.2.11\n",
      "[FLASH] Fast Length Adjustment of SHort reads\n",
      "[FLASH]  \n",
      "[FLASH] Input files:\n",
      "[FLASH]     tests/data/data_for_pipeline_run/SAMPLE-B_REP1_1.fastq\n",
      "[FLASH]     tests/data/data_for_pipeline_run/SAMPLE-B_REP1_2.fastq\n",
      "[FLASH]  \n",
      "[FLASH] Output files:\n",
      "[FLASH]     ./out.extendedFrags.fastq\n",
      "[FLASH]     ./out.notCombined_1.fastq\n",
      "[FLASH]     ./out.notCombined_2.fastq\n",
      "[FLASH]     ./out.hist\n",
      "[FLASH]     ./out.histogram\n",
      "[FLASH]  \n",
      "[FLASH] Parameters:\n",
      "[FLASH]     Min overlap:           10\n",
      "[FLASH]     Max overlap:           65\n",
      "[FLASH]     Max mismatch density:  0.250000\n",
      "[FLASH]     Allow \"outie\" pairs:   false\n",
      "[FLASH]     Cap mismatch quals:    false\n",
      "[FLASH]     Combiner threads:      40\n",
      "[FLASH]     Input format:          FASTQ, phred_offset=33\n",
      "[FLASH]     Output format:         FASTQ, phred_offset=33\n",
      "[FLASH]  \n",
      "[FLASH] Starting reader and writer threads\n",
      "[FLASH] Starting 40 combiner threads\n",
      "[FLASH] Processed 250 read pairs\n",
      "[FLASH]  \n",
      "[FLASH] Read combination statistics:\n",
      "[FLASH]     Total pairs:      250\n",
      "[FLASH]     Combined pairs:   140\n",
      "[FLASH]     Uncombined pairs: 110\n",
      "[FLASH]     Percent combined: 56.00%\n",
      "[FLASH]  \n",
      "[FLASH] Writing histogram files.\n",
      "[FLASH]  \n",
      "[FLASH] FLASH v1.2.11 complete!\n",
      "[FLASH] 0.084 seconds elapsed\n"
     ]
    }
   ],
   "source": [
    "!flash tests/data/data_for_pipeline_run/SAMPLE-B_REP1_1.fastq tests/data/data_for_pipeline_run/SAMPLE-B_REP1_2.fastq"
   ]
  },
  {
   "cell_type": "code",
   "execution_count": null,
   "id": "708b003b-e6a2-4d3a-8014-bc154166cc92",
   "metadata": {},
   "outputs": [],
   "source": []
  }
 ],
 "metadata": {
  "kernelspec": {
   "display_name": "Python 3 (ipykernel)",
   "language": "python",
   "name": "python3"
  },
  "language_info": {
   "codemirror_mode": {
    "name": "ipython",
    "version": 3
   },
   "file_extension": ".py",
   "mimetype": "text/x-python",
   "name": "python",
   "nbconvert_exporter": "python",
   "pygments_lexer": "ipython3",
   "version": "3.9.6"
  }
 },
 "nbformat": 4,
 "nbformat_minor": 5
}
